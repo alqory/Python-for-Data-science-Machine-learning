{
 "cells": [
  {
   "cell_type": "code",
   "execution_count": 1,
   "id": "c6581634",
   "metadata": {},
   "outputs": [],
   "source": [
    "import numpy as np"
   ]
  },
  {
   "cell_type": "code",
   "execution_count": 2,
   "id": "fbeb63ab",
   "metadata": {},
   "outputs": [],
   "source": [
    "import pandas as pd"
   ]
  },
  {
   "cell_type": "code",
   "execution_count": 17,
   "id": "32e8bedc",
   "metadata": {},
   "outputs": [],
   "source": [
    "labels = ['a','b','c','d','e']\n",
    "my_data = [10,20,30]\n",
    "arr = np.array(my_data)\n",
    "d = {'a':10 , 'b':20 , 'c':30}\n",
    "nat = ['German', 'USA', 'Indonesia', 'Japan','malaysia']"
   ]
  },
  {
   "cell_type": "code",
   "execution_count": 14,
   "id": "623a7ad6",
   "metadata": {},
   "outputs": [
    {
     "data": {
      "text/plain": [
       "0    10\n",
       "1    20\n",
       "2    30\n",
       "dtype: int64"
      ]
     },
     "execution_count": 14,
     "metadata": {},
     "output_type": "execute_result"
    }
   ],
   "source": [
    "pd.Series(data= my_data)"
   ]
  },
  {
   "cell_type": "code",
   "execution_count": 15,
   "id": "c4cdd3a9",
   "metadata": {},
   "outputs": [
    {
     "data": {
      "text/plain": [
       "a    10\n",
       "b    20\n",
       "c    30\n",
       "dtype: int64"
      ]
     },
     "execution_count": 15,
     "metadata": {},
     "output_type": "execute_result"
    }
   ],
   "source": [
    "pd.Series(data = my_data, index=labels)"
   ]
  },
  {
   "cell_type": "code",
   "execution_count": 18,
   "id": "166ba3ab",
   "metadata": {},
   "outputs": [
    {
     "data": {
      "text/plain": [
       "a       German\n",
       "b          USA\n",
       "c    Indonesia\n",
       "d        Japan\n",
       "e     malaysia\n",
       "dtype: object"
      ]
     },
     "execution_count": 18,
     "metadata": {},
     "output_type": "execute_result"
    }
   ],
   "source": [
    "pd.Series(nat, labels)"
   ]
  },
  {
   "cell_type": "code",
   "execution_count": 21,
   "id": "f3226c78",
   "metadata": {},
   "outputs": [],
   "source": [
    "set1 =pd.Series(['USA', 'JAPAN', 'INDONESIA', 'ITALY'], [1,2,3,4])"
   ]
  },
  {
   "cell_type": "code",
   "execution_count": 27,
   "id": "d73a7ec1",
   "metadata": {},
   "outputs": [
    {
     "data": {
      "text/plain": [
       "1          USA\n",
       "2        JAPAN\n",
       "3    INDONESIA\n",
       "4        ITALY\n",
       "dtype: object"
      ]
     },
     "execution_count": 27,
     "metadata": {},
     "output_type": "execute_result"
    }
   ],
   "source": [
    "set1"
   ]
  },
  {
   "cell_type": "code",
   "execution_count": 29,
   "id": "5d3aba42",
   "metadata": {},
   "outputs": [
    {
     "data": {
      "text/plain": [
       "'USA'"
      ]
     },
     "execution_count": 29,
     "metadata": {},
     "output_type": "execute_result"
    }
   ],
   "source": [
    "set1[1]"
   ]
  },
  {
   "cell_type": "code",
   "execution_count": null,
   "id": "7625f341",
   "metadata": {},
   "outputs": [],
   "source": []
  }
 ],
 "metadata": {
  "kernelspec": {
   "display_name": "Python 3",
   "language": "python",
   "name": "python3"
  },
  "language_info": {
   "codemirror_mode": {
    "name": "ipython",
    "version": 3
   },
   "file_extension": ".py",
   "mimetype": "text/x-python",
   "name": "python",
   "nbconvert_exporter": "python",
   "pygments_lexer": "ipython3",
   "version": "3.8.8"
  }
 },
 "nbformat": 4,
 "nbformat_minor": 5
}
