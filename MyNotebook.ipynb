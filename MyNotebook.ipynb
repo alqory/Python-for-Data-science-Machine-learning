{
 "cells": [
  {
   "cell_type": "markdown",
   "id": "f09a3fc7",
   "metadata": {},
   "source": [
    "Use print() for print something"
   ]
  },
  {
   "cell_type": "code",
   "execution_count": 45,
   "id": "ce8f0a48",
   "metadata": {},
   "outputs": [
    {
     "data": {
      "text/plain": [
       "2"
      ]
     },
     "execution_count": 45,
     "metadata": {},
     "output_type": "execute_result"
    }
   ],
   "source": [
    "1 + 1"
   ]
  },
  {
   "cell_type": "code",
   "execution_count": 46,
   "id": "7694cc44",
   "metadata": {},
   "outputs": [],
   "source": [
    "def gaji(hari, duit):\n",
    "    total = hari * duit\n",
    "    return total"
   ]
  },
  {
   "cell_type": "code",
   "execution_count": 50,
   "id": "51484111",
   "metadata": {},
   "outputs": [],
   "source": [
    "x = gaji(10,100)"
   ]
  },
  {
   "cell_type": "code",
   "execution_count": 53,
   "id": "cf19dbe1",
   "metadata": {},
   "outputs": [
    {
     "data": {
      "text/plain": [
       "1000"
      ]
     },
     "execution_count": 53,
     "metadata": {},
     "output_type": "execute_result"
    }
   ],
   "source": [
    "x"
   ]
  },
  {
   "cell_type": "markdown",
   "id": "fef13a94",
   "metadata": {},
   "source": [
    "Grab word \"teamhendri\" from \"teamhendri18@gmail.com\""
   ]
  },
  {
   "cell_type": "code",
   "execution_count": 65,
   "id": "b70db028",
   "metadata": {},
   "outputs": [],
   "source": [
    "def grab(email):\n",
    "    return email.split('18')[0]"
   ]
  },
  {
   "cell_type": "code",
   "execution_count": 67,
   "id": "81dc39fd",
   "metadata": {},
   "outputs": [
    {
     "data": {
      "text/plain": [
       "'teamhendri'"
      ]
     },
     "execution_count": 67,
     "metadata": {},
     "output_type": "execute_result"
    }
   ],
   "source": [
    "grab(\"teamhendri18@gmail.com\")"
   ]
  },
  {
   "cell_type": "code",
   "execution_count": 50,
   "id": "030710b4",
   "metadata": {},
   "outputs": [
    {
     "name": "stdout",
     "output_type": "stream",
     "text": [
      "0\n",
      "1\n",
      "2\n",
      "3\n",
      "4\n"
     ]
    }
   ],
   "source": [
    "i = 0\n",
    "while True:\n",
    "    for i in range(5):\n",
    "        print(i)\n",
    "        i += 1\n",
    "    break"
   ]
  },
  {
   "cell_type": "code",
   "execution_count": 51,
   "id": "728521be",
   "metadata": {},
   "outputs": [],
   "source": [
    "x = [2,3,4,5,6]"
   ]
  },
  {
   "cell_type": "code",
   "execution_count": 52,
   "id": "8e332096",
   "metadata": {},
   "outputs": [],
   "source": [
    "zonk = []"
   ]
  },
  {
   "cell_type": "code",
   "execution_count": 61,
   "id": "c8d0d94b",
   "metadata": {},
   "outputs": [],
   "source": [
    "for var in x:\n",
    "    zonk.append(var ** 2)\n",
    "    \n",
    "    "
   ]
  },
  {
   "cell_type": "code",
   "execution_count": 172,
   "id": "7e2189f6",
   "metadata": {},
   "outputs": [
    {
     "name": "stdout",
     "output_type": "stream",
     "text": [
      "[4, 9, 16, 25, 36, 2, 2, 2, 2, 2, 2, 2, 2, 2, 2, 4, 9, 16, 25, 36]\n"
     ]
    }
   ],
   "source": [
    "print(zonk)"
   ]
  },
  {
   "cell_type": "code",
   "execution_count": 173,
   "id": "fdd988c7",
   "metadata": {},
   "outputs": [],
   "source": [
    "def kuadart(num):\n",
    "    return num**2\n"
   ]
  },
  {
   "cell_type": "code",
   "execution_count": 182,
   "id": "e09bf3ae",
   "metadata": {},
   "outputs": [
    {
     "data": {
      "text/plain": [
       "144"
      ]
     },
     "execution_count": 182,
     "metadata": {},
     "output_type": "execute_result"
    }
   ],
   "source": [
    "kuadart(12)"
   ]
  },
  {
   "cell_type": "code",
   "execution_count": 207,
   "id": "083da3bb",
   "metadata": {},
   "outputs": [],
   "source": [
    "Dataset = (1,2,3,4,5,6)"
   ]
  },
  {
   "cell_type": "code",
   "execution_count": 211,
   "id": "f32e2ef5",
   "metadata": {},
   "outputs": [
    {
     "ename": "TypeError",
     "evalue": "'list' object is not callable",
     "output_type": "error",
     "traceback": [
      "\u001b[1;31m---------------------------------------------------------------------------\u001b[0m",
      "\u001b[1;31mTypeError\u001b[0m                                 Traceback (most recent call last)",
      "\u001b[1;32m<ipython-input-211-ead93f4d84cc>\u001b[0m in \u001b[0;36m<module>\u001b[1;34m\u001b[0m\n\u001b[1;32m----> 1\u001b[1;33m \u001b[0mx\u001b[0m \u001b[1;33m=\u001b[0m \u001b[0mlist\u001b[0m\u001b[1;33m(\u001b[0m\u001b[0mfilter\u001b[0m\u001b[1;33m(\u001b[0m\u001b[1;32mlambda\u001b[0m \u001b[0mnum\u001b[0m\u001b[1;33m:\u001b[0m \u001b[0mnum\u001b[0m\u001b[1;33m%\u001b[0m\u001b[1;36m2\u001b[0m \u001b[1;33m==\u001b[0m \u001b[1;36m0\u001b[0m\u001b[1;33m,\u001b[0m \u001b[0mDataset\u001b[0m\u001b[1;33m)\u001b[0m\u001b[1;33m)\u001b[0m\u001b[1;33m\u001b[0m\u001b[1;33m\u001b[0m\u001b[0m\n\u001b[0m",
      "\u001b[1;31mTypeError\u001b[0m: 'list' object is not callable"
     ]
    }
   ],
   "source": [
    "x = list(filter(lambda num: num%2 == 0, Dataset))"
   ]
  },
  {
   "cell_type": "code",
   "execution_count": 205,
   "id": "98d0db4a",
   "metadata": {},
   "outputs": [
    {
     "data": {
      "text/plain": [
       "{2, 4}"
      ]
     },
     "execution_count": 205,
     "metadata": {},
     "output_type": "execute_result"
    }
   ],
   "source": [
    "x"
   ]
  },
  {
   "cell_type": "code",
   "execution_count": 202,
   "id": "f5e5d79a",
   "metadata": {},
   "outputs": [],
   "source": [
    "s = \"Hendri Alqory\""
   ]
  },
  {
   "cell_type": "code",
   "execution_count": 210,
   "id": "0e27cb1b",
   "metadata": {},
   "outputs": [
    {
     "data": {
      "text/plain": [
       "<function str.upper()>"
      ]
     },
     "execution_count": 210,
     "metadata": {},
     "output_type": "execute_result"
    }
   ],
   "source": [
    "s.upper"
   ]
  },
  {
   "cell_type": "code",
   "execution_count": 1,
   "id": "4fa2e5aa",
   "metadata": {},
   "outputs": [],
   "source": [
    "def getname(name):\n",
    "    return 'dog' in name"
   ]
  },
  {
   "cell_type": "code",
   "execution_count": 2,
   "id": "9e43500c",
   "metadata": {},
   "outputs": [
    {
     "data": {
      "text/plain": [
       "True"
      ]
     },
     "execution_count": 2,
     "metadata": {},
     "output_type": "execute_result"
    }
   ],
   "source": [
    "getname('Is there a doge here?')"
   ]
  }
 ],
 "metadata": {
  "kernelspec": {
   "display_name": "Python 3",
   "language": "python",
   "name": "python3"
  },
  "language_info": {
   "codemirror_mode": {
    "name": "ipython",
    "version": 3
   },
   "file_extension": ".py",
   "mimetype": "text/x-python",
   "name": "python",
   "nbconvert_exporter": "python",
   "pygments_lexer": "ipython3",
   "version": "3.8.8"
  }
 },
 "nbformat": 4,
 "nbformat_minor": 5
}
